{
 "cells": [
  {
   "cell_type": "code",
   "execution_count": 1,
   "metadata": {
    "collapsed": true
   },
   "outputs": [],
   "source": [
    "# geeksforgeeks facebook questions\n",
    "\n",
    "def show_balances(daily_balances):\n",
    "    num_balances = len(daily_balances)\n",
    "\n",
    "    # still avoid slice that just has yesterday\n",
    "    for day in range(num_balances - 3, num_balances - 1):\n",
    "        balance_slice = daily_balances[day : day + 2]\n",
    "\n",
    "        # need to calculate how many days ago\n",
    "        days_ago = num_balances - day\n",
    "        print(\"slice starting %d days ago: %s\" % (abs(days_ago), balance_slice))\n",
    "        "
   ]
  },
  {
   "cell_type": "code",
   "execution_count": 2,
   "metadata": {
    "collapsed": false
   },
   "outputs": [
    {
     "name": "stdout",
     "output_type": "stream",
     "text": [
      "slice starting 3 days ago: [5, 6]\n",
      "slice starting 2 days ago: [6, 7]\n"
     ]
    }
   ],
   "source": [
    "show_balances([1,2,3,4,5,6,7])"
   ]
  },
  {
   "cell_type": "code",
   "execution_count": 13,
   "metadata": {
    "collapsed": false
   },
   "outputs": [
    {
     "name": "stdout",
     "output_type": "stream",
     "text": [
      "[[2, 3]]\n",
      "[[1, 2, 3], [2, 4, 6], [3, 6, 9]]\n"
     ]
    }
   ],
   "source": [
    "iterator = (i for i in range(1, 4))\n",
    "matrix = [[x * y for y in iterator] for x in iterator]\n",
    "print matrix\n",
    "\n",
    "iterator = [i for i in range(1, 4)]\n",
    "matrix = [[x * y for y in iterator] for x in iterator]\n",
    "print matrix"
   ]
  },
  {
   "cell_type": "code",
   "execution_count": 3,
   "metadata": {
    "collapsed": false
   },
   "outputs": [
    {
     "name": "stdout",
     "output_type": "stream",
     "text": [
      "[]\n"
     ]
    },
    {
     "data": {
      "text/plain": [
       "[[1, 2, 3], [2, 4, 6], [3, 6, 9]]"
      ]
     },
     "execution_count": 3,
     "metadata": {},
     "output_type": "execute_result"
    }
   ],
   "source": [
    "m = []\n",
    "for i in range(1,4):\n",
    "    m.append([])\n",
    "    for j in range(1,4):\n",
    "        m[i-1].append(i*j)\n",
    "m"
   ]
  },
  {
   "cell_type": "code",
   "execution_count": 9,
   "metadata": {
    "collapsed": false
   },
   "outputs": [
    {
     "name": "stdout",
     "output_type": "stream",
     "text": [
      "0 -4\n",
      "1 -2\n",
      "2 1\n",
      "3 -3\n",
      "Largest subarray sum of size k:  -1  Elems:  [-2, 1]\n"
     ]
    },
    {
     "data": {
      "text/plain": [
       "-1"
      ]
     },
     "execution_count": 9,
     "metadata": {},
     "output_type": "execute_result"
    },
    {
     "name": "stdout",
     "output_type": "stream",
     "text": [
      "0 1\n",
      "1 1\n",
      "2 1\n",
      "3 1\n",
      "4 1\n",
      "5 1\n",
      "Largest subarray sum of size k:  2  Elems:  [1, 1]\n"
     ]
    },
    {
     "data": {
      "text/plain": [
       "2"
      ]
     },
     "execution_count": 9,
     "metadata": {},
     "output_type": "execute_result"
    }
   ],
   "source": [
    "# https://practice.geeksforgeeks.org/problems/largest-sum-subarray-of-size-at-least-k/0\n",
    "# WHY THE TEST CASE NR 2 OUTPUT IS 6 INSTEAD OF 2? \n",
    "# https://practice.geeksforgeeks.org/problems/largest-sum-subarray-of-size-at-least-k/0\n",
    "    \n",
    "import numpy as np\n",
    "\n",
    "def get_largest_subarray_sum_of_size_k(array, k):\n",
    "    total, best_sum = -np.inf, -np.inf\n",
    "    for i, e in enumerate(array):\n",
    "        print i, e\n",
    "        total += array[i]\n",
    "        if i%k ==0:\n",
    "                #re evaluate sum of sub array of size k:\n",
    "                if total> best_sum:\n",
    "                    best_sum = total\n",
    "                total = 0\n",
    "    print 'Largest subarray sum of size k: ', best_sum, ' Elems: ', array[i-k:i]\n",
    "    return best_sum\n",
    "        \n",
    "get_largest_subarray_sum_of_size_k([-4, -2, 1, -3], 2)  # -1 \n",
    "get_largest_subarray_sum_of_size_k([1, 1, 1, 1, 1, 1], 2)  # 6"
   ]
  },
  {
   "cell_type": "code",
   "execution_count": 11,
   "metadata": {
    "collapsed": false
   },
   "outputs": [
    {
     "name": "stdout",
     "output_type": "stream",
     "text": [
      "110\n",
      "n\n"
     ]
    }
   ],
   "source": [
    "s = 'nat'\n",
    "letter =  ord(s[0])\n",
    "print letter\n",
    "print chr(letter)"
   ]
  },
  {
   "cell_type": "code",
   "execution_count": 13,
   "metadata": {
    "collapsed": false
   },
   "outputs": [
    {
     "name": "stdout",
     "output_type": "stream",
     "text": [
      "0\n",
      "1\n",
      "2\n",
      "3\n",
      "4\n",
      "5\n",
      "6\n",
      "7\n",
      "8\n",
      "9\n"
     ]
    }
   ],
   "source": [
    "for x in range(10):\n",
    "    print x"
   ]
  },
  {
   "cell_type": "code",
   "execution_count": null,
   "metadata": {
    "collapsed": true
   },
   "outputs": [],
   "source": []
  }
 ],
 "metadata": {
  "kernelspec": {
   "display_name": "Python [conda env:srl]",
   "language": "python",
   "name": "conda-env-srl-py"
  },
  "language_info": {
   "codemirror_mode": {
    "name": "ipython",
    "version": 2
   },
   "file_extension": ".py",
   "mimetype": "text/x-python",
   "name": "python",
   "nbconvert_exporter": "python",
   "pygments_lexer": "ipython2",
   "version": "2.7.14"
  }
 },
 "nbformat": 4,
 "nbformat_minor": 1
}

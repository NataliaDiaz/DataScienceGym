{
 "cells": [
  {
   "cell_type": "markdown",
   "metadata": {},
   "source": [
    "## Descriptive statistics\n",
    "\n",
    "Assuming some data from a MOOC platform's AB Test, this notebook performs dynamic exploration of dimensions and some \n",
    "descriptive statistics for the dimension of 'Gender' and per revenue per session that a user logs into the system:\n",
    "\n",
    "rps_diff_frac = fractional differential lift of the revenue with respect to treatment subset of female variant\n",
    "\n",
    "rps_diff = absolute differential lift of the revenue\n",
    "\n",
    "rps_ctrl = mean for the revenue for the control variant of the experiment\n",
    "\n",
    "rps_diff_err = Std error of the mean (SEM)\n",
    "\n",
    "* Note: Standard Error of the Mean (SEM) σM = the stdev of the sampling distribution of the mean, where σ is the standard deviation of the original distribution and N is the sample size (the number of scores each mean is based upon).\n",
    "\n",
    "Two ways of computing it: standard deviation and standard error of the mean:\n",
    "\n",
    "a) s = pd.Series(np.random.randn(1000))\n",
    "\n",
    "stats.sem(s.values) # stats.sem(s, axis=None, ddof=0) # n degrees of freedom\n",
    "\n",
    "b) s.std() / np.sqrt(len(s))\n",
    "\n",
    "\n",
    "----\n",
    "Output:\n",
    "\n",
    "rps_diff_frac = 1.062\n",
    "\n",
    "rps_diff = 0.54\n",
    "\n",
    "rps_ctrl = 8.71\n",
    "\n",
    "rps_diff_err = 0.059\n"
   ]
  },
  {
   "cell_type": "code",
   "execution_count": 5,
   "metadata": {
    "collapsed": false
   },
   "outputs": [
    {
     "name": "stdout",
     "output_type": "stream",
     "text": [
      "   customer_id   datestamp  variant engagement_level  gender  ips  cps  pps  \\\n",
      "0            0  2016-04-11     test     less_engaged  female    6    3    1   \n",
      "1            0  2016-04-14     test     less_engaged  female    3    1    0   \n",
      "2            1  2016-04-11  control     less_engaged  female    2    1    0   \n",
      "3            2  2016-04-17  control     less_engaged  female    3    0    0   \n",
      "4            3  2016-04-12  control     less_engaged  female    3    0    0   \n",
      "\n",
      "   rps  \n",
      "0   25  \n",
      "1    0  \n",
      "2    0  \n",
      "3    0  \n",
      "4    0   165649\n",
      "    customer_id   datestamp  variant engagement_level  gender  ips  cps  pps  \\\n",
      "2             1  2016-04-11  control     less_engaged  female    2    1    0   \n",
      "3             2  2016-04-17  control     less_engaged  female    3    0    0   \n",
      "4             3  2016-04-12  control     less_engaged  female    3    0    0   \n",
      "6             5  2016-04-12  control     less_engaged  female    1    0    0   \n",
      "12           10  2016-04-12  control     less_engaged  female    2    0    0   \n",
      "\n",
      "    rps  \n",
      "2     0  \n",
      "3     0  \n",
      "4     0  \n",
      "6     0  \n",
      "12    0   59886\n"
     ]
    },
    {
     "data": {
      "text/plain": [
       "pandas.core.frame.DataFrame"
      ]
     },
     "execution_count": 5,
     "metadata": {},
     "output_type": "execute_result"
    },
    {
     "data": {
      "text/plain": [
       "pandas.core.frame.DataFrame"
      ]
     },
     "execution_count": 5,
     "metadata": {},
     "output_type": "execute_result"
    },
    {
     "name": "stdout",
     "output_type": "stream",
     "text": [
      "     datestamp  variant engagement_level  gender     n  ips_sum  ips2_sum  \\\n",
      "0   2016-04-11  control     less_engaged  female  6012    16791     64643   \n",
      "3   2016-04-11  control     more_engaged  female  2395    30543    528387   \n",
      "12  2016-04-12  control     less_engaged  female  6351    17901     69519   \n",
      "15  2016-04-12  control     more_engaged  female  2401    30251    508169   \n",
      "24  2016-04-13  control     less_engaged  female  6245    17425     67085   \n",
      "\n",
      "    cps_sum  cps2_sum  pps_sum  pps2_sum  rps_sum  rps2_sum   mean_rps  \n",
      "0      4463      7967      883      1011    18064    537322   3.004657  \n",
      "3      8859     52487     1722      3376    35157   1641085  14.679332  \n",
      "12     4756      8452      955      1089    20018    615046   3.151945  \n",
      "15     8786     52492     1670      3174    34997   1618677  14.576010  \n",
      "24     4820      8688      949      1089    19490    565980   3.120897   <class 'pandas.core.frame.DataFrame'>\n",
      "\n",
      "rps_ctrl:  8.70970871788\n",
      "rps_test:  9.24934892878\n",
      "rps_diff:  0.539640210897\n",
      "rps_diff_frac:  1.06195846823\n",
      "rps_diff_err:  0.0594888536805\n"
     ]
    }
   ],
   "source": [
    "import pandas as pd\n",
    "import numpy as np\n",
    "from scipy import stats\n",
    "\n",
    "#from qtextasdata import QTextAsData,QInputParams\n",
    "# def query_database_harelba_q():\n",
    "#     # Create an instance of q. Default input parameters can be provided here if needed\n",
    "#     q = QTextAsData()\n",
    "\n",
    "#     # execute a query, using specific input parameters\n",
    "#     r = q.execute('select * from /etc/passwd',QInputParams(delimiter=':'))\n",
    "\n",
    "#     # Get the result status (ok/error). In case of error, r.error will contain a QError instance with the error information\n",
    "#     print r.status\n",
    "\n",
    "sessions = pd.read_csv('./data/sessions-hypercube.csv')\n",
    "sessions_orig = pd.read_csv('./data/sessions-with-features.csv')\n",
    "orig_sessions_female_control = sessions_orig.loc[sessions_orig['gender'] == 'female'].loc[sessions_orig['variant']== 'control']\n",
    "print sessions_orig.head(), len(sessions_orig)\n",
    "print orig_sessions_female_control.head(), len(orig_sessions_female_control)\n",
    "\n",
    "#female_sessions = sessions.loc[sessions['gender'] == 'female']\n",
    "female_sessions_control = sessions.loc[sessions['gender'] == 'female'].loc[sessions['variant']== 'control']\n",
    "female_sessions_test = sessions.loc[sessions['gender'] == 'female'].loc[sessions['variant']== 'test']\n",
    "#print female_sessions_control.head(), len(female_sessions_control)\n",
    "\n",
    "rps_female_ctrl = np.divide(female_sessions_control.rps_sum, female_sessions_control.n)\n",
    "type(pd.DataFrame(rps_female_ctrl))\n",
    "rps_female_ctrl = np.divide(female_sessions_control.rps_sum, female_sessions_control.n)\n",
    "type(pd.DataFrame(rps_female_ctrl))\n",
    "\n",
    "female_sessions_control['mean_rps'] = female_sessions_control.rps_sum/female_sessions_control.n \n",
    "female_sessions_test['mean_rps'] = female_sessions_test.rps_sum/female_sessions_test.n \n",
    "\n",
    "print female_sessions_control.head(), type(female_sessions_control)\n",
    "\n",
    "print \"\\nrps_ctrl: \", female_sessions_control['mean_rps'].mean()\n",
    "print \"rps_test: \",female_sessions_test['mean_rps'].mean()\n",
    "\n",
    "print \"rps_diff: \", np.abs(female_sessions_control['mean_rps'].mean() \n",
    "                           - female_sessions_test['mean_rps'].mean())\n",
    "\n",
    "print \"rps_diff_frac: \", np.divide(female_sessions_test['mean_rps'].mean(),\n",
    "                        female_sessions_control['mean_rps'].mean())\n",
    "\n",
    "print \"rps_diff_err: \", stats.sem(orig_sessions_female_control['rps'])\n",
    "\n"
   ]
  },
  {
   "cell_type": "code",
   "execution_count": null,
   "metadata": {
    "collapsed": true
   },
   "outputs": [],
   "source": []
  }
 ],
 "metadata": {
  "kernelspec": {
   "display_name": "Python 2",
   "language": "python",
   "name": "python2"
  },
  "language_info": {
   "codemirror_mode": {
    "name": "ipython",
    "version": 2
   },
   "file_extension": ".py",
   "mimetype": "text/x-python",
   "name": "python",
   "nbconvert_exporter": "python",
   "pygments_lexer": "ipython2",
   "version": "2.7.12"
  }
 },
 "nbformat": 4,
 "nbformat_minor": 0
}
